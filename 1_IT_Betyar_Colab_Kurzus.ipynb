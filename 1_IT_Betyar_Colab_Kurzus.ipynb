{
  "cells": [
    {
      "cell_type": "markdown",
      "metadata": {
        "id": "eqyQcuODPHwH"
      },
      "source": [
        "<h1><font color='lightblue'><b>Google Colab Kurzus 1.</b>  |  itbetyar.hu</font></h1>\n",
        "\n",
        "<img src=\"https://www.itbetyar.hu/dload_itb/itb_logo70.webp\" alt=\"IT Betyár\" width=\"60\">\n",
        "<img src=\"https://drive.google.com/uc?export=view&id=1W7LuoRWg6zLwAS0z9r6RKli_ANOveo6B\" width=\"93\">\n",
        "\n",
        "<br>\n",
        "\n",
        "<div>\n",
        "<h3>Várunk szeretettel képzéseinken:</h3>\n",
        "  <a href=\"https://itbetyar.hu\"><img alt=\"IT Betyár honlap\" src=\"https://itbetyar.hu/dload_itb/colab_gomb_itb.webp\" height=\"30px\"></a>\n",
        "  <a href=\"https://itbetyar.hu/python-tanfolyam/\"><img alt=\"IT Betyár honlap\" src=\"https://itbetyar.hu/dload_itb/colab_gomb_kpt.webp\" height=\"30px\"></a>\n",
        "  <a href=\"https://itbetyar.hu/uzleti-a-i-automatizacio-workshop/\"><img alt=\"IT Betyár honlap\" src=\"https://itbetyar.hu/dload_itb/colab_gomb_aiaut.webp\" height=\"30px\"></a>\n",
        "  <a href=\"https://itbetyar.hu/mesterseges-intelligencia-fejleszto-tanfolyam/\"><img alt=\"AI Developer tanfolyam\" src=\"https://itbetyar.hu/dload_itb/colab_gomb_aidev.webp\" height=\"30px\"></a>\n",
        "  <a href=\"https://itbetyar.hu/sql-tanfolyam/\"><img alt=\"SQL Képzések\" src=\"https://itbetyar.hu/dload_itb/colab_gomb_sql.webp\" height=\"30px\"></a>\n",
        "</div>\n",
        "<br>\n",
        "\n",
        "---\n",
        "<br>\n",
        "\n",
        "<h1><font color='orange'>3/1-es lecke : <b>Google Colab alap gyakorlat</b></font></h1>\n",
        "\n",
        "### A kurzus központi [honlap oldala <<](https://itbetyar.hu/google-colab-kurzus/)\n",
        "\n",
        "- Bevezető könnyű alapvető tudnivalók\n",
        "- Blokkok típusai\n",
        "- Az oldalpanel lehetőségei\n",
        "- A dark mód\n",
        "\n",
        "### Ehhez a fájlhoz [ez az oktatóvideó](https://www.youtube.com/watch?v=cdQmZn0JIx0) tartozik  📹 ⏭\n",
        "\n",
        "<img src=\"https://drive.google.com/uc?export=view&id=1QSr4ho1NJ1RxY2wndT0yVTWviUrKPM1T\" width=\"300\">\n",
        "\n",
        "\n",
        "<br>\n",
        "<br>\n",
        "\n",
        "---"
      ]
    },
    {
      "cell_type": "markdown",
      "source": [
        "## 1. A Colab előnyei 🥼\n",
        "\n",
        "- Zero config, Online, cloud környezet, bárhonnan elérhető 🌎\n",
        "- Alacsony teljesítményű PC-ről is 🐅 Tigris teljesítményt érhetsz el `(GPU)`\n",
        "- Sok feladathoz szükséges programozási library 📚 itt már gyárilag telepítve van ✅\n",
        "- Remek megosztási lehetőségek\n",
        "\n",
        "### A futtatható dokumentum\n",
        "a `Colab` egy úgynevezett `Jupyter Notebook` típusú környezetet használ. Ez csak azt jelenti, hogy amíg egy általános kódfájl nem tartalma képeket, leírást. Addig a `Jupi` tartalmazhat, lásd konkrétan most egy ilyet nézel éppen :-)\n",
        "\n",
        "Tanuláshoz ez HIHETETLENÜL JÓ!!! Meg nem tanuláshoz is amúgy!"
      ],
      "metadata": {
        "id": "Em5IGQTF1Vy4"
      }
    },
    {
      "cell_type": "markdown",
      "metadata": {
        "id": "JROg6wqw0DrY"
      },
      "source": [
        "## 2. Előkészület - Dark mode 🦇\n",
        "\n",
        "<img src=\"https://drive.google.com/uc?export=view&id=1Et-fmXm5y-LAfvHy6YufDsY5WfKud_H7\" width=\"500\">\n",
        "\n",
        "\n",
        "1.  Beállítási javaslat: `Tools >> Settings >> Site >>` **Theme: Dark mode** 🌚\n",
        "2.  Alább végzünk pár feladatot, hogy magabiztosabban érezzük magunkat a Colabban és a Jupyter notebookban.\n",
        "\n",
        "\n",
        "\n"
      ]
    },
    {
      "cell_type": "code",
      "source": [
        "# Látod ez itt egy kód blokk...\n",
        "# Ezeket lehet futtatni, lásd rögvest..  lentebb"
      ],
      "metadata": {
        "id": "nMqd-VP20nel"
      },
      "execution_count": null,
      "outputs": []
    },
    {
      "cell_type": "markdown",
      "metadata": {
        "id": "UeTkNNzh3Okn"
      },
      "source": [
        "\n",
        "## 3. Feladat - Futtatás 🥇\n",
        "- Futtasd alábbi `kódblokkot` a kis play gombra kattintva\n",
        "- Figyeld meg, hogy az első kód blokk futtatásakor `\"felépíti, elindítja\"` a kis virtuális felhő számítógépet"
      ]
    },
    {
      "cell_type": "code",
      "execution_count": null,
      "metadata": {
        "id": "1QMcawQmO9bh"
      },
      "outputs": [],
      "source": [
        "### Ez egy code blokk\n",
        "def osszeadas(a, b):\n",
        "    \"\"\"Az összeadás függvénye.\"\"\"\n",
        "    return a + b\n",
        "\n",
        "# Példák műveletekre\n",
        "szam1 = 10\n",
        "szam2 = 5\n",
        "\n",
        "osszeg = osszeadas(szam1, szam2)\n",
        "\n",
        "# Eredmények megjelenítése\n",
        "print(\"Összeadás:\", osszeg)"
      ]
    },
    {
      "cell_type": "markdown",
      "source": [
        "⭕ Figyeld meg a fenti kódmező alatt meg kellett jelennie futtatás után az:\n",
        "- `Összeadás: 15`\n",
        "- ez az úgynevezett output, kimenet azaz a futtatás eredménye"
      ],
      "metadata": {
        "id": "tFNuWWSmPExe"
      }
    },
    {
      "cell_type": "markdown",
      "metadata": {
        "id": "rv2fA4dH1UA-"
      },
      "source": [
        "## 4-es feladat 🥈\n",
        "Töröld ennek a Jupyter notebooknak a korábbi `outputjait`\n",
        "- Edit menü >> `Clear all outputs`\n",
        "- Ez gyakran hasznos ha nem akarsz összezavarodni régebbi outputoktól\n",
        "---"
      ]
    },
    {
      "cell_type": "markdown",
      "source": [
        "### Várunk szeretettel képzéseinken:\n",
        "\n",
        "<div>\n",
        "  <a href=\"https://itbetyar.hu\"><img alt=\"IT Betyár honlap\" src=\"https://itbetyar.hu/dload_itb/colab_gomb_itb.webp\" height=\"30px\"></a>\n",
        "   <a href=\"https://itbetyar.hu\"><img alt=\"IT Betyár honlap\" src=\"https://itbetyar.hu/dload_itb/colab_gomb_kpt.webp\" height=\"30px\"></a>\n",
        "  <a href=\"https://itbetyar.hu/mesterseges-intelligencia-fejleszto-tanfolyam/\"><img alt=\"AI Developer tanfolyam\" src=\"https://itbetyar.hu/dload_itb/colab_gomb_aidev.webp\" height=\"30px\"></a>\n",
        "</div>"
      ],
      "metadata": {
        "id": "gqF5znXjyAvo"
      }
    },
    {
      "cell_type": "markdown",
      "metadata": {
        "id": "E-xEMwJn1-VS"
      },
      "source": [
        "## 5-ös feladat 🥉\n",
        "Tölts fel egy képet, fájlt a saját számítógépedről ide a Colab felületére\n",
        "- Keresd meg a bal oldali oldalsávon/sidebaron a mappa kinézetű ikont\n",
        "- Kattints erre az ikonra   -->   megnyílik az oldalpanel\n",
        "- Drag & Drop azaz sima egérvontatással húzz ide egy **kisebb saját fájlt**\n",
        "\n",
        "Erre nagyon sokszor szükségünk van, amikor külső fájl szükséges a kód futásához"
      ]
    },
    {
      "cell_type": "code",
      "execution_count": null,
      "metadata": {
        "id": "l0Cz6Qxg1Tsj"
      },
      "outputs": [],
      "source": [
        "# Ez egy kódblokk, de kommentelni itt is lehet.\n",
        "\n",
        "# 6-os feladat    -->   nézd meg a \"Files\" oldalsávon a 4 felső ikont melyik, mit csinál"
      ]
    },
    {
      "cell_type": "markdown",
      "metadata": {
        "id": "d3nJggdO3czS"
      },
      "source": [
        "## 7-es feladat\n",
        "Nézd meg az oldalsávon a legfelső `Table of content` részt.\n",
        "- Figyeld meg, hogy a fő szövegblokkok fejezetként, tartalomjegyzéként működnek\n"
      ]
    },
    {
      "cell_type": "code",
      "execution_count": null,
      "metadata": {
        "id": "spiBX0Jm4UbE"
      },
      "outputs": [],
      "source": [
        "# 8-as feladat: Futtasd ezt a kódblokkot a Ctrl+Enter kombóval\n",
        "print(\"Ha ez a szöveg megjelenik az outputban akkor sikerült!\")"
      ]
    },
    {
      "cell_type": "markdown",
      "metadata": {
        "id": "NHDDsXBK4sur"
      },
      "source": [
        "## 💾 9-es feladat: Mentés és letöltés!\n",
        "\n",
        "- Nem ugyan az a kettő!\n",
        "- Mentsd el ezt a .ipynb file-t File menü >> `Save`\n",
        "- File menü >> `Download`\n",
        "- .py és .ipynb mentés is lehetséges\n",
        "---"
      ]
    },
    {
      "cell_type": "markdown",
      "metadata": {
        "id": "SYuPLu-j5TMJ"
      },
      "source": [
        "## 10-es feladat\n",
        "Nézzük meg közösen, hogy hogyan lehet új `.ipynb` fájlt létrehozni Goggle Drive stb. alapon\n",
        "Lásd a [videóban!!!](https://www.youtube.com/watch?v=cdQmZn0JIx0)"
      ]
    },
    {
      "cell_type": "markdown",
      "metadata": {
        "id": "hTLbWwnuv5s-"
      },
      "source": [
        "---\n",
        "<h1><font color='lightblue'>Google Colab - Mini kurzus 1.</font></h1>\n",
        "\n",
        "<img src=\"https://www.itbetyar.hu/dload_itb/itb_logo70.webp\" alt=\"IT Betyár\" width=\"60\">\n",
        "\n",
        "<br>\n",
        "\n",
        "\n",
        "<div>\n",
        "<h3>Várunk szeretettel képzéseinken:</h3>\n",
        "  <a href=\"https://itbetyar.hu\"><img alt=\"IT Betyár honlap\" src=\"https://itbetyar.hu/dload_itb/colab_gomb_itb.webp\" height=\"30px\"></a>\n",
        "  <a href=\"https://itbetyar.hu/python-tanfolyam/\"><img alt=\"IT Betyár honlap\" src=\"https://itbetyar.hu/dload_itb/colab_gomb_kpt.webp\" height=\"30px\"></a>\n",
        "  <a href=\"https://itbetyar.hu/uzleti-a-i-automatizacio-workshop/\"><img alt=\"IT Betyár honlap\" src=\"https://itbetyar.hu/dload_itb/colab_gomb_aiaut.webp\" height=\"30px\"></a>\n",
        "  <a href=\"https://itbetyar.hu/mesterseges-intelligencia-fejleszto-tanfolyam/\"><img alt=\"AI Developer tanfolyam\" src=\"https://itbetyar.hu/dload_itb/colab_gomb_aidev.webp\" height=\"30px\"></a>\n",
        "  <a href=\"https://itbetyar.hu/sql-tanfolyam/\"><img alt=\"SQL Képzések\" src=\"https://itbetyar.hu/dload_itb/colab_gomb_sql.webp\" height=\"30px\"></a>\n",
        "  \n",
        "</div>\n",
        "\n",
        "### **A lecke végére értél, gratulálok a sikeres lecketeljesítéshez!** <br>"
      ]
    }
  ],
  "metadata": {
    "colab": {
      "provenance": []
    },
    "kernelspec": {
      "display_name": "Python 3",
      "name": "python3"
    },
    "language_info": {
      "name": "python"
    }
  },
  "nbformat": 4,
  "nbformat_minor": 0
}